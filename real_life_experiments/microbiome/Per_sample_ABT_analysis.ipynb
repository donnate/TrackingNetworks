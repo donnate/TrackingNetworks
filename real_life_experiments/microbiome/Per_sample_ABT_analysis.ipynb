{
 "cells": [
  {
   "cell_type": "markdown",
   "metadata": {},
   "source": [
    "# Microbiome Analysis\n",
    "\n",
    "All the analysis here is done using the characteristic signature of each node as a featurization of each bacteria's status in the bacterial community.\n"
   ]
  },
  {
   "cell_type": "code",
   "execution_count": 12,
   "metadata": {
    "collapsed": true
   },
   "outputs": [],
   "source": [
    "%matplotlib inline\n",
    "import numpy as np\n",
    "import pandas as pd\n",
    "import seaborn as sb\n",
    "import networkx as nx\n",
    "import os\n",
    "import sys\n",
    "import matplotlib.pyplot as plt\n",
    "sys.path.append('../')"
   ]
  },
  {
   "cell_type": "markdown",
   "metadata": {},
   "source": [
    "## Computing Distances between graphs"
   ]
  },
  {
   "cell_type": "code",
   "execution_count": 18,
   "metadata": {
    "collapsed": false
   },
   "outputs": [
    {
     "ename": "NameError",
     "evalue": "name 'sample_names' is not defined",
     "output_type": "error",
     "traceback": [
      "\u001b[0;31m---------------------------------------------------------------------------\u001b[0m",
      "\u001b[0;31mNameError\u001b[0m                                 Traceback (most recent call last)",
      "\u001b[0;32m<ipython-input-18-5d59c6993d3f>\u001b[0m in \u001b[0;36m<module>\u001b[0;34m()\u001b[0m\n\u001b[1;32m      5\u001b[0m \u001b[0;34m\u001b[0m\u001b[0m\n\u001b[1;32m      6\u001b[0m \u001b[0;31m### Compute Distances between samples from the characteristic functions\u001b[0m\u001b[0;34m\u001b[0m\u001b[0;34m\u001b[0m\u001b[0m\n\u001b[0;32m----> 7\u001b[0;31m \u001b[0mD\u001b[0m\u001b[0;34m=\u001b[0m\u001b[0mpd\u001b[0m\u001b[0;34m.\u001b[0m\u001b[0mDataFrame\u001b[0m\u001b[0;34m(\u001b[0m\u001b[0mnp\u001b[0m\u001b[0;34m.\u001b[0m\u001b[0mzeros\u001b[0m\u001b[0;34m(\u001b[0m\u001b[0;34m(\u001b[0m\u001b[0;36m162\u001b[0m\u001b[0;34m,\u001b[0m\u001b[0;36m162\u001b[0m\u001b[0;34m)\u001b[0m\u001b[0;34m)\u001b[0m\u001b[0;34m,\u001b[0m\u001b[0mindex\u001b[0m\u001b[0;34m=\u001b[0m\u001b[0msample_names\u001b[0m\u001b[0;34m)\u001b[0m\u001b[0;34m\u001b[0m\u001b[0m\n\u001b[0m\u001b[1;32m      8\u001b[0m \u001b[0mD\u001b[0m\u001b[0;34m.\u001b[0m\u001b[0mcolumns\u001b[0m\u001b[0;34m=\u001b[0m\u001b[0msample_names\u001b[0m\u001b[0;34m\u001b[0m\u001b[0m\n\u001b[1;32m      9\u001b[0m \u001b[0;32mfor\u001b[0m \u001b[0mi\u001b[0m \u001b[0;32min\u001b[0m \u001b[0mrange\u001b[0m\u001b[0;34m(\u001b[0m\u001b[0;36m1\u001b[0m\u001b[0;34m,\u001b[0m\u001b[0;36m162\u001b[0m\u001b[0;34m)\u001b[0m\u001b[0;34m:\u001b[0m\u001b[0;34m\u001b[0m\u001b[0m\n",
      "\u001b[0;31mNameError\u001b[0m: name 'sample_names' is not defined"
     ]
    }
   ],
   "source": [
    "### Load/ or Compute the associated characteristic signature\n",
    "chi=np.load(\"/Users/cdonnat/Dropbox/GSP/tests_real/microbiome_analysis/cached_quantities/chi_corr_nx.npy\")\n",
    "chi=np.ndarray.flatten(chi)[0] #since it's a little long, we just use the cached files\n",
    "\n",
    "\n",
    "### Compute Distances between samples from the characteristic functions\n",
    "D=pd.DataFrame(np.zeros((162,162)),index=sample_names)\n",
    "D.columns=sample_names\n",
    "for i in range(1,162):\n",
    "    print i\n",
    "    for j in range(i):\n",
    "        print j\n",
    "        c1=sample_names[i]\n",
    "        c2=sample_names[j]\n",
    "        D.loc[c1,c2]=chi_distance_aligned_graph([n for n in Graphs_sel[c1].index],[n for n in Graphs_sel[c2].index],chi[c1],chi[c2],nb_t=len(taus))\n",
    "D=D+D.T\n",
    "np.save(\"cached_quantities/D_harm.npy\",D)\n"
   ]
  },
  {
   "cell_type": "markdown",
   "metadata": {},
   "source": [
    "## Analysis of the Graphs dynamics\n",
    "\n",
    "We use the distance matrix that we just computed to visualize the clustering of the sampel"
   ]
  },
  {
   "cell_type": "code",
   "execution_count": null,
   "metadata": {
    "collapsed": true
   },
   "outputs": [],
   "source": [
    "from sklearn.manifold import TSNE\n",
    "from sklearn.manifold import MDS\n",
    "#model = TSNE(n_components=2, random_state=0,metric='precomputed')\n",
    "model=sklearn.manifold.MDS(n_components=2, metric=True, n_init=4, max_iter=300, verbose=0, eps=0.001, n_jobs=1, random_state=None, dissimilarity='precomputed')\n",
    "np.set_printoptions(suppress=True)\n",
    "\n",
    "#chi_new=pca.fit_transform(chi[k])\n",
    "chi_new=model.fit_transform(D) \n",
    "colors=[]\n",
    "for e in sample_names:\n",
    "    if e[0]==\"E\":\n",
    "        colors.append(\"royalblue\")\n",
    "    elif e[0]==\"D\":\n",
    "        colors.append(\"palevioletred\")\n",
    "    elif e[0]==\"F\":\n",
    "        colors.append(\"darkturquoise\")\n",
    "        \n",
    "\n",
    "plot=True\n",
    "savefig=True\n",
    "annotate=[True,\"color\"]\n",
    "colors_state={e:colors_evol_E[e] for e in colors_evol_E.keys()}\n",
    "colors_state.update(colors_evol_D)\n",
    "colors_state.update(colors_evol_F)\n",
    "if plot==True:\n",
    "    fig,ax=plt.subplots(figsize=(10,12))\n",
    "    sb.set_style(\"white\")\n",
    "    sb.set(style='ticks')\n",
    "    sb.set_style({\"xtick.direction\":\"in\", \"ytick.direction\":\"in\"})\n",
    "    sb.set_context(\"paper\", font_scale=1.0)\n",
    "    cmap = plt.get_cmap('hot')\n",
    "    plt.scatter(chi_new[:,0],chi_new[:,1],cmap=cmap,s=300,c=[colors_state[e] for e in D.index])\n",
    "    for label, x, y in zip(sample_names, chi_new[:, 0], chi_new[:, 1]):\n",
    "                #print label,x,y\n",
    "                plt.annotate(label,xy=(x, y), xytext=(-1, 0), textcoords='offset points')\n",
    "    \n",
    "    #plt.title(\"PCA projection of the wavelet distribution\")\n",
    "    plt.tight_layout()\n",
    "    plt.savefig(\"plots_microbiome_analysis/MDS_ABT_colored_state.pdf\")"
   ]
  },
  {
   "cell_type": "markdown",
   "metadata": {},
   "source": [
    "## Evolution of the \"Sample\" graphs\n",
    "\n",
    "The goal here is to capture the dynamics of the sample graphs as a whole.\n"
   ]
  },
  {
   "cell_type": "code",
   "execution_count": null,
   "metadata": {
    "collapsed": true
   },
   "outputs": [],
   "source": [
    "index_E=[e for e in sample_names if e[0]==\"E\"]\n",
    "index_F=[e for e in sample_names  if e[0]==\"F\"]\n",
    "index_D=[e for e in sample_names  if e[0]==\"D\"]\n",
    "\n",
    "states=[u for u in np.unique(sample.loc[:,\"condition\"])]\n",
    "color=[\"maroon\",\"indianred\", \"orange\",\"gold\",\"lightgreen\",\"mediumseagreen\", \"royalblue\"]\n",
    "evol_distance_E=np.zeros(len(index_E)-1)\n",
    "colors_evol_E={e:color[states.index(sample.loc[e,\"condition\"])] for e in index_E }\n",
    "ordered_color_E=[]\n",
    "for e in range(1,len(index_E)):\n",
    "    e1=\"E\"+str(e)\n",
    "    e2=\"E\"+str(e+1)\n",
    "    ordered_color_E.append(colors_evol_E[e1])\n",
    "    evol_distance_E[e-1]= chi_distance_aligned_graph([n for n in Graphs_sel[e1].index],[n for n in Graphs_sel[e2].index],chi[e1],chi[e2],nb_t=len(taus))\n",
    "\n",
    "\n",
    "\n",
    "fig,ax=plt.subplots(figsize=(10,12))\n",
    "sb.set(style='ticks')\n",
    "sb.set_context(\"paper\", font_scale=1.5)\n",
    "for col in color:\n",
    "    ind=[u for u in range(len(ordered_color_E)) if ordered_color_E[u]==col]\n",
    "    if ind[-1]+1<(len(ordered_color_E)-1):\n",
    "        ind+=[ind[-1]+1]  \n",
    "    plt.plot(ind,[evol_distance_E[i] for i in ind],c=col,label=states[color.index(col)])\n",
    "plt.legend(loc=\"upper right\")\n",
    "plt.savefig(\"plots_microbiome_analysis/harm_evol_E.pdf\")\n",
    "\n",
    "\n",
    "evol_distance_F=np.zeros(len(index_F)-1)\n",
    "colors_evol_F={e:color[states.index(sample.loc[e,\"condition\"])] for e in index_F }\n",
    "ordered_color_F=[]\n",
    "for e in range(1,len(index_F)):\n",
    "    e1=\"F\"+str(e)\n",
    "    e2=\"F\"+str(e+1)\n",
    "    ordered_color_F.append(colors_evol_F[e1])\n",
    "    evol_distance_F[e-1]= chi_distance_aligned_graph([n for n in Graphs_sel[e1].index],[n for n in Graphs_sel[e2].index],chi[e1],chi[e2],nb_t=len(taus))\n",
    "\n",
    "\n",
    "\n",
    "fig,ax=plt.subplots(figsize=(10,12))\n",
    "sb.set(style='ticks')\n",
    "sb.set_context(\"paper\", font_scale=1.5)\n",
    "for col in color:\n",
    "    ind=[u for u in range(len(ordered_color_F)) if ordered_color_F[u]==col]\n",
    "    if ind[-1]+1<(len(ordered_color_F)-1):\n",
    "        ind+=[ind[-1]+1]  \n",
    "    plt.plot(ind,[evol_distance_F[i] for i in ind],c=col,label=states[color.index(col)])\n",
    "plt.legend(loc=\"upper right\")\n",
    "plt.savefig(\"plots_microbiome_analysis/harm_evol_F.pdf\")\n",
    "\n",
    "\n",
    "\n",
    "evol_distance_D=np.zeros(len(index_D)-1)\n",
    "colors_evol_D={e:color[states.index(sample.loc[e,\"condition\"])] for e in index_D }\n",
    "ordered_color_D=[]\n",
    "for e in range(1,len(index_D)):\n",
    "    e1=\"D\"+str(e)\n",
    "    e2=\"D\"+str(e+1)\n",
    "    ordered_color_D.append(colors_evol_D[e1])\n",
    "    evol_distance_D[e-1]= chi_distance_aligned_graph([n for n in Graphs_sel[e1].index],[n for n in Graphs_sel[e2].index],chi[e1],chi[e2],nb_t=len(taus))\n",
    "\n",
    "\n",
    "\n",
    "fig,ax=plt.subplots(figsize=(10,12))\n",
    "sb.set(style='ticks')\n",
    "sb.set_context(\"paper\", font_scale=1.5)\n",
    "for col in color:\n",
    "    ind=[u for u in range(len(ordered_color_D)) if ordered_color_D[u]==col]\n",
    "    if ind[-1]+1<(len(ordered_color_D)-1):\n",
    "        ind+=[ind[-1]+1]  \n",
    "    plt.plot(ind,[evol_distance_D[i] for i in ind],c=col,label=states[color.index(col)])\n",
    "plt.legend(loc=\"upper right\")\n",
    "plt.savefig(\"plots_microbiome_analysis/harm_evol_D.pdf\")\n"
   ]
  },
  {
   "cell_type": "markdown",
   "metadata": {},
   "source": [
    "## Understanding the evolution on a \"per-bacteria\" level\n",
    "\n",
    "The goal here is to map the evolution of a bacteria's status within the graph. We select a few bacteria (of interest?), and see how their status (as reflected by the diffusion distribution centered around each and every one of them) evolves over time."
   ]
  },
  {
   "cell_type": "code",
   "execution_count": null,
   "metadata": {
    "collapsed": true
   },
   "outputs": [],
   "source": [
    "bacs=[\"Unc06grq\",\"Unc09fy6\",\"Unc06d5x\",\"PabDis18\"]\n",
    "d_taxa={bac:np.zeros(51) for bac in bacs}\n",
    "node=0\n",
    "mode=2\n",
    "for bac in bacs:\n",
    "    for i in range(1,51):\n",
    "        print i\n",
    "        e1=\"E\"+str(i)\n",
    "        e2=\"E\"+str(i+1)\n",
    "        if bac in Graphs_sel[e1].index:\n",
    "            ind_list=[u for u in (Graphs_sel[e1].index)]\n",
    "            ind1=ind_list.index(bac)\n",
    "        else:\n",
    "            ind1=np.nan\n",
    "        if bac in Graphs_sel[e2].index:\n",
    "            ind_list2=[u for u in (Graphs_sel[e2].index)]\n",
    "            ind2=ind_list2.index(bac)\n",
    "        else:\n",
    "            ind2=np.nan\n",
    "        if np.isnan(ind1) and np.isnan(ind2):\n",
    "            d=0\n",
    "        elif np.isnan(ind1):\n",
    "            print \"here\"\n",
    "            d=np.linalg.norm(heat_print[e2][mode].iloc[:,ind2])\n",
    "        elif np.isnan(ind2):\n",
    "            print \"hhere\"\n",
    "            d=np.linalg.norm(heat_print[e1][mode].iloc[:,ind1])\n",
    "        else:\n",
    "            sig1=heat_print[e1][mode].iloc[:,ind1]\n",
    "            sig2=heat_print[e2][mode].iloc[:,ind2]\n",
    "            d=compute_auc(sig1,sig2,mode_diff=\"agg\",normalize=True)\n",
    "    \n",
    "        d_taxa[bac][i]=d\n",
    "d_taxa[bacs[1]][15]=0\n",
    "\n",
    "it=0\n",
    "fig,ax=plt.subplots()\n",
    "color=[\"royalblue\",\"indianred\", \"lightseagreen\", \"lemonchiffon\",\"indianred\",\"sierra\"]\n",
    "for bac in bacs:\n",
    "    plt.plot(d_taxa[bac],c=color[it],label=bac)\n",
    "    it+=1\n",
    "plt.xlabel(\"Time\")\n",
    "plt.ylabel(\"Distances between consecutive diffusion patterns\")\n",
    "plt.legend(loc=\"upper right\")\n",
    "plt.savefig(\"plots_microbiome_analysis/evol_node.pdf\")"
   ]
  }
 ],
 "metadata": {
  "anaconda-cloud": {},
  "kernelspec": {
   "display_name": "Python [default]",
   "language": "python",
   "name": "python2"
  },
  "language_info": {
   "codemirror_mode": {
    "name": "ipython",
    "version": 2
   },
   "file_extension": ".py",
   "mimetype": "text/x-python",
   "name": "python",
   "nbconvert_exporter": "python",
   "pygments_lexer": "ipython2",
   "version": "2.7.11"
  }
 },
 "nbformat": 4,
 "nbformat_minor": 1
}
